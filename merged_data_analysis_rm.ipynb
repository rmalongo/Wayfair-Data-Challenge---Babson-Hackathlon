{
 "cells": [
  {
   "cell_type": "code",
   "execution_count": 1,
   "metadata": {},
   "outputs": [],
   "source": [
    "# load modules\n",
    "\n",
    "import os\n",
    "import pandas as pd\n",
    "import numpy as np\n",
    "import statistics\n",
    "import seaborn as sns #visualisation\n",
    "import matplotlib.pyplot as plt #visualisation\n",
    "from sklearn.model_selection import train_test_split\n",
    "from sklearn.linear_model import LogisticRegression\n",
    "from sklearn.preprocessing import OneHotEncoder"
   ]
  },
  {
   "cell_type": "code",
   "execution_count": 2,
   "metadata": {},
   "outputs": [
    {
     "data": {
      "text/plain": [
       "'/Users/oliver/Desktop/Babson Data Analytics Competition/Notebooks'"
      ]
     },
     "execution_count": 2,
     "metadata": {},
     "output_type": "execute_result"
    }
   ],
   "source": [
    "# Current current working directory\n",
    "os.getcwd()"
   ]
  },
  {
   "cell_type": "code",
   "execution_count": 3,
   "metadata": {},
   "outputs": [
    {
     "data": {
      "text/plain": [
       "['Content_Rec_Exploratory data analysis.ipynb',\n",
       " \"SupplierData Analysis - Jimmy's part.ipynb\",\n",
       " 'Babson data.ipynb',\n",
       " 'merged_data_analysis_rm.ipynb',\n",
       " 'Babson Data.pdf',\n",
       " '.ipynb_checkpoints',\n",
       " 'ModuleCountData Exploratory Analysis.ipynb']"
      ]
     },
     "execution_count": 3,
     "metadata": {},
     "output_type": "execute_result"
    }
   ],
   "source": [
    "# List files in current working directory\n",
    "os.listdir()"
   ]
  },
  {
   "cell_type": "code",
   "execution_count": 4,
   "metadata": {
    "scrolled": true
   },
   "outputs": [
    {
     "data": {
      "text/plain": [
       "['ContentRecommendationData.csv', 'SupplierData.csv', 'ModuleCountData.csv']"
      ]
     },
     "execution_count": 4,
     "metadata": {},
     "output_type": "execute_result"
    }
   ],
   "source": [
    "os.listdir(\"../Data/Base data\")"
   ]
  },
  {
   "cell_type": "code",
   "execution_count": 5,
   "metadata": {},
   "outputs": [],
   "source": [
    "# Base data\n",
    "content  = pd.read_csv(\"../Data/Base data/ContentRecommendationData.csv\")\n",
    "supplier = pd.read_csv(\"../Data/Base data/SupplierData.csv\")\n",
    "modules  = pd.read_csv(\"../Data/Base data/ModuleCountData.csv\")"
   ]
  },
  {
   "cell_type": "code",
   "execution_count": 6,
   "metadata": {},
   "outputs": [
    {
     "data": {
      "text/html": [
       "<div>\n",
       "<style scoped>\n",
       "    .dataframe tbody tr th:only-of-type {\n",
       "        vertical-align: middle;\n",
       "    }\n",
       "\n",
       "    .dataframe tbody tr th {\n",
       "        vertical-align: top;\n",
       "    }\n",
       "\n",
       "    .dataframe thead th {\n",
       "        text-align: right;\n",
       "    }\n",
       "</style>\n",
       "<table border=\"1\" class=\"dataframe\">\n",
       "  <thead>\n",
       "    <tr style=\"text-align: right;\">\n",
       "      <th></th>\n",
       "      <th>prsku</th>\n",
       "      <th>clid</th>\n",
       "      <th>percentilerank</th>\n",
       "      <th>biccontenttypename</th>\n",
       "      <th>hasbiccontenttype</th>\n",
       "    </tr>\n",
       "  </thead>\n",
       "  <tbody>\n",
       "    <tr>\n",
       "      <th>0</th>\n",
       "      <td>AACF1003</td>\n",
       "      <td>15</td>\n",
       "      <td>NaN</td>\n",
       "      <td>Materials / How Its Made</td>\n",
       "      <td>0</td>\n",
       "    </tr>\n",
       "    <tr>\n",
       "      <th>1</th>\n",
       "      <td>AACF1020</td>\n",
       "      <td>15</td>\n",
       "      <td>NaN</td>\n",
       "      <td>Warranty &amp; Guarantees</td>\n",
       "      <td>0</td>\n",
       "    </tr>\n",
       "    <tr>\n",
       "      <th>2</th>\n",
       "      <td>AACF1025</td>\n",
       "      <td>15</td>\n",
       "      <td>NaN</td>\n",
       "      <td>Materials / How Its Made</td>\n",
       "      <td>0</td>\n",
       "    </tr>\n",
       "    <tr>\n",
       "      <th>3</th>\n",
       "      <td>AACF1042</td>\n",
       "      <td>15</td>\n",
       "      <td>NaN</td>\n",
       "      <td>Relative Size &amp; Fit</td>\n",
       "      <td>0</td>\n",
       "    </tr>\n",
       "    <tr>\n",
       "      <th>4</th>\n",
       "      <td>AACF1057</td>\n",
       "      <td>15</td>\n",
       "      <td>NaN</td>\n",
       "      <td>Materials / How Its Made</td>\n",
       "      <td>0</td>\n",
       "    </tr>\n",
       "  </tbody>\n",
       "</table>\n",
       "</div>"
      ],
      "text/plain": [
       "      prsku  clid  percentilerank        biccontenttypename  hasbiccontenttype\n",
       "0  AACF1003    15             NaN  Materials / How Its Made                  0\n",
       "1  AACF1020    15             NaN     Warranty & Guarantees                  0\n",
       "2  AACF1025    15             NaN  Materials / How Its Made                  0\n",
       "3  AACF1042    15             NaN       Relative Size & Fit                  0\n",
       "4  AACF1057    15             NaN  Materials / How Its Made                  0"
      ]
     },
     "execution_count": 6,
     "metadata": {},
     "output_type": "execute_result"
    }
   ],
   "source": [
    "# Contect data\n",
    "content.head()"
   ]
  },
  {
   "cell_type": "code",
   "execution_count": 7,
   "metadata": {},
   "outputs": [
    {
     "data": {
      "text/html": [
       "<div>\n",
       "<style scoped>\n",
       "    .dataframe tbody tr th:only-of-type {\n",
       "        vertical-align: middle;\n",
       "    }\n",
       "\n",
       "    .dataframe tbody tr th {\n",
       "        vertical-align: top;\n",
       "    }\n",
       "\n",
       "    .dataframe thead th {\n",
       "        text-align: right;\n",
       "    }\n",
       "</style>\n",
       "<table border=\"1\" class=\"dataframe\">\n",
       "  <thead>\n",
       "    <tr style=\"text-align: right;\">\n",
       "      <th></th>\n",
       "      <th>prsku</th>\n",
       "      <th>soid</th>\n",
       "      <th>soname</th>\n",
       "      <th>clid</th>\n",
       "      <th>clname</th>\n",
       "      <th>mkcname</th>\n",
       "      <th>suid</th>\n",
       "      <th>iswaymore</th>\n",
       "      <th>addedtocart</th>\n",
       "      <th>placedorder</th>\n",
       "      <th>trafficcount</th>\n",
       "      <th>iscurrent</th>\n",
       "      <th>videocount</th>\n",
       "      <th>grs1month</th>\n",
       "      <th>grs2month</th>\n",
       "      <th>grs3month</th>\n",
       "      <th>grs12month</th>\n",
       "      <th>weightedavgscore</th>\n",
       "      <th>percentilerank</th>\n",
       "      <th>expectedgrs</th>\n",
       "    </tr>\n",
       "  </thead>\n",
       "  <tbody>\n",
       "    <tr>\n",
       "      <th>0</th>\n",
       "      <td>AAAM1028</td>\n",
       "      <td>3</td>\n",
       "      <td>Wayfair UK</td>\n",
       "      <td>21</td>\n",
       "      <td>Cribs</td>\n",
       "      <td>Nursery</td>\n",
       "      <td>1</td>\n",
       "      <td>0</td>\n",
       "      <td>0</td>\n",
       "      <td>0</td>\n",
       "      <td>14</td>\n",
       "      <td>1</td>\n",
       "      <td>0</td>\n",
       "      <td>0.000000</td>\n",
       "      <td>0.00000</td>\n",
       "      <td>0.000000</td>\n",
       "      <td>0.000000</td>\n",
       "      <td>NaN</td>\n",
       "      <td>NaN</td>\n",
       "      <td>NaN</td>\n",
       "    </tr>\n",
       "    <tr>\n",
       "      <th>1</th>\n",
       "      <td>AABK1087</td>\n",
       "      <td>4</td>\n",
       "      <td>Wayfair DE</td>\n",
       "      <td>18</td>\n",
       "      <td>Mattress Toppers and Pads</td>\n",
       "      <td>Mattresses - Utility Bedding</td>\n",
       "      <td>7080</td>\n",
       "      <td>0</td>\n",
       "      <td>45</td>\n",
       "      <td>5</td>\n",
       "      <td>1362</td>\n",
       "      <td>1</td>\n",
       "      <td>0</td>\n",
       "      <td>265.558272</td>\n",
       "      <td>857.66493</td>\n",
       "      <td>3759.433838</td>\n",
       "      <td>6547.578930</td>\n",
       "      <td>NaN</td>\n",
       "      <td>NaN</td>\n",
       "      <td>NaN</td>\n",
       "    </tr>\n",
       "    <tr>\n",
       "      <th>2</th>\n",
       "      <td>AACE1000</td>\n",
       "      <td>6</td>\n",
       "      <td>Wayfair CA</td>\n",
       "      <td>15</td>\n",
       "      <td>Area Rugs</td>\n",
       "      <td>Rugs</td>\n",
       "      <td>1</td>\n",
       "      <td>0</td>\n",
       "      <td>0</td>\n",
       "      <td>0</td>\n",
       "      <td>0</td>\n",
       "      <td>1</td>\n",
       "      <td>0</td>\n",
       "      <td>0.000000</td>\n",
       "      <td>0.00000</td>\n",
       "      <td>0.000000</td>\n",
       "      <td>0.000000</td>\n",
       "      <td>NaN</td>\n",
       "      <td>NaN</td>\n",
       "      <td>NaN</td>\n",
       "    </tr>\n",
       "    <tr>\n",
       "      <th>3</th>\n",
       "      <td>AACF1003</td>\n",
       "      <td>3</td>\n",
       "      <td>Wayfair UK</td>\n",
       "      <td>15</td>\n",
       "      <td>Area Rugs</td>\n",
       "      <td>Rugs</td>\n",
       "      <td>4312</td>\n",
       "      <td>0</td>\n",
       "      <td>0</td>\n",
       "      <td>0</td>\n",
       "      <td>25</td>\n",
       "      <td>1</td>\n",
       "      <td>0</td>\n",
       "      <td>0.000000</td>\n",
       "      <td>0.00000</td>\n",
       "      <td>0.000000</td>\n",
       "      <td>342.437186</td>\n",
       "      <td>NaN</td>\n",
       "      <td>NaN</td>\n",
       "      <td>NaN</td>\n",
       "    </tr>\n",
       "    <tr>\n",
       "      <th>4</th>\n",
       "      <td>AACF1005</td>\n",
       "      <td>3</td>\n",
       "      <td>Wayfair UK</td>\n",
       "      <td>15</td>\n",
       "      <td>Area Rugs</td>\n",
       "      <td>Rugs</td>\n",
       "      <td>1</td>\n",
       "      <td>0</td>\n",
       "      <td>1</td>\n",
       "      <td>0</td>\n",
       "      <td>7</td>\n",
       "      <td>1</td>\n",
       "      <td>0</td>\n",
       "      <td>0.000000</td>\n",
       "      <td>0.00000</td>\n",
       "      <td>0.000000</td>\n",
       "      <td>0.000000</td>\n",
       "      <td>NaN</td>\n",
       "      <td>NaN</td>\n",
       "      <td>NaN</td>\n",
       "    </tr>\n",
       "  </tbody>\n",
       "</table>\n",
       "</div>"
      ],
      "text/plain": [
       "      prsku  soid      soname  clid                     clname  \\\n",
       "0  AAAM1028     3  Wayfair UK    21                      Cribs   \n",
       "1  AABK1087     4  Wayfair DE    18  Mattress Toppers and Pads   \n",
       "2  AACE1000     6  Wayfair CA    15                  Area Rugs   \n",
       "3  AACF1003     3  Wayfair UK    15                  Area Rugs   \n",
       "4  AACF1005     3  Wayfair UK    15                  Area Rugs   \n",
       "\n",
       "                        mkcname  suid  iswaymore  addedtocart  placedorder  \\\n",
       "0                       Nursery     1          0            0            0   \n",
       "1  Mattresses - Utility Bedding  7080          0           45            5   \n",
       "2                          Rugs     1          0            0            0   \n",
       "3                          Rugs  4312          0            0            0   \n",
       "4                          Rugs     1          0            1            0   \n",
       "\n",
       "   trafficcount  iscurrent  videocount   grs1month  grs2month    grs3month  \\\n",
       "0            14          1           0    0.000000    0.00000     0.000000   \n",
       "1          1362          1           0  265.558272  857.66493  3759.433838   \n",
       "2             0          1           0    0.000000    0.00000     0.000000   \n",
       "3            25          1           0    0.000000    0.00000     0.000000   \n",
       "4             7          1           0    0.000000    0.00000     0.000000   \n",
       "\n",
       "    grs12month  weightedavgscore  percentilerank  expectedgrs  \n",
       "0     0.000000               NaN             NaN          NaN  \n",
       "1  6547.578930               NaN             NaN          NaN  \n",
       "2     0.000000               NaN             NaN          NaN  \n",
       "3   342.437186               NaN             NaN          NaN  \n",
       "4     0.000000               NaN             NaN          NaN  "
      ]
     },
     "execution_count": 7,
     "metadata": {},
     "output_type": "execute_result"
    }
   ],
   "source": [
    "# Supplier data\n",
    "supplier.head()"
   ]
  },
  {
   "cell_type": "code",
   "execution_count": 8,
   "metadata": {},
   "outputs": [
    {
     "data": {
      "text/html": [
       "<div>\n",
       "<style scoped>\n",
       "    .dataframe tbody tr th:only-of-type {\n",
       "        vertical-align: middle;\n",
       "    }\n",
       "\n",
       "    .dataframe tbody tr th {\n",
       "        vertical-align: top;\n",
       "    }\n",
       "\n",
       "    .dataframe thead th {\n",
       "        text-align: right;\n",
       "    }\n",
       "</style>\n",
       "<table border=\"1\" class=\"dataframe\">\n",
       "  <thead>\n",
       "    <tr style=\"text-align: right;\">\n",
       "      <th></th>\n",
       "      <th>prsku</th>\n",
       "      <th>modulecount</th>\n",
       "      <th>clid</th>\n",
       "      <th>clname</th>\n",
       "      <th>mkcname</th>\n",
       "    </tr>\n",
       "  </thead>\n",
       "  <tbody>\n",
       "    <tr>\n",
       "      <th>0</th>\n",
       "      <td>AAOJ1497</td>\n",
       "      <td>1</td>\n",
       "      <td>34</td>\n",
       "      <td>Wall Art</td>\n",
       "      <td>Wall Art</td>\n",
       "    </tr>\n",
       "    <tr>\n",
       "      <th>1</th>\n",
       "      <td>ACFT1051</td>\n",
       "      <td>1</td>\n",
       "      <td>9</td>\n",
       "      <td>Bar Stools</td>\n",
       "      <td>Furniture - Kitchen and Dining</td>\n",
       "    </tr>\n",
       "    <tr>\n",
       "      <th>2</th>\n",
       "      <td>ACOT1466</td>\n",
       "      <td>1</td>\n",
       "      <td>34</td>\n",
       "      <td>Wall Art</td>\n",
       "      <td>Wall Art</td>\n",
       "    </tr>\n",
       "    <tr>\n",
       "      <th>3</th>\n",
       "      <td>ACOT4005</td>\n",
       "      <td>1</td>\n",
       "      <td>15</td>\n",
       "      <td>Area Rugs</td>\n",
       "      <td>Rugs</td>\n",
       "    </tr>\n",
       "    <tr>\n",
       "      <th>4</th>\n",
       "      <td>ACOT4710</td>\n",
       "      <td>4</td>\n",
       "      <td>15</td>\n",
       "      <td>Area Rugs</td>\n",
       "      <td>Rugs</td>\n",
       "    </tr>\n",
       "  </tbody>\n",
       "</table>\n",
       "</div>"
      ],
      "text/plain": [
       "      prsku  modulecount  clid      clname                         mkcname\n",
       "0  AAOJ1497            1    34    Wall Art                        Wall Art\n",
       "1  ACFT1051            1     9  Bar Stools  Furniture - Kitchen and Dining\n",
       "2  ACOT1466            1    34    Wall Art                        Wall Art\n",
       "3  ACOT4005            1    15   Area Rugs                            Rugs\n",
       "4  ACOT4710            4    15   Area Rugs                            Rugs"
      ]
     },
     "execution_count": 8,
     "metadata": {},
     "output_type": "execute_result"
    }
   ],
   "source": [
    "# Module count data\n",
    "modules.head()"
   ]
  },
  {
   "cell_type": "code",
   "execution_count": 9,
   "metadata": {},
   "outputs": [
    {
     "data": {
      "text/html": [
       "<div>\n",
       "<style scoped>\n",
       "    .dataframe tbody tr th:only-of-type {\n",
       "        vertical-align: middle;\n",
       "    }\n",
       "\n",
       "    .dataframe tbody tr th {\n",
       "        vertical-align: top;\n",
       "    }\n",
       "\n",
       "    .dataframe thead th {\n",
       "        text-align: right;\n",
       "    }\n",
       "</style>\n",
       "<table border=\"1\" class=\"dataframe\">\n",
       "  <thead>\n",
       "    <tr style=\"text-align: right;\">\n",
       "      <th></th>\n",
       "      <th>prsku</th>\n",
       "      <th>modulecount</th>\n",
       "      <th>clid_x</th>\n",
       "      <th>clname</th>\n",
       "      <th>mkcname</th>\n",
       "      <th>clid_y</th>\n",
       "      <th>percentilerank</th>\n",
       "      <th>biccontenttypename</th>\n",
       "      <th>hasbiccontenttype</th>\n",
       "    </tr>\n",
       "  </thead>\n",
       "  <tbody>\n",
       "    <tr>\n",
       "      <th>0</th>\n",
       "      <td>AAOJ1497</td>\n",
       "      <td>1</td>\n",
       "      <td>34</td>\n",
       "      <td>Wall Art</td>\n",
       "      <td>Wall Art</td>\n",
       "      <td>34</td>\n",
       "      <td>0.99</td>\n",
       "      <td>Visual Details</td>\n",
       "      <td>1</td>\n",
       "    </tr>\n",
       "    <tr>\n",
       "      <th>1</th>\n",
       "      <td>AAOJ1497</td>\n",
       "      <td>1</td>\n",
       "      <td>34</td>\n",
       "      <td>Wall Art</td>\n",
       "      <td>Wall Art</td>\n",
       "      <td>34</td>\n",
       "      <td>0.99</td>\n",
       "      <td>Dimensions</td>\n",
       "      <td>0</td>\n",
       "    </tr>\n",
       "    <tr>\n",
       "      <th>2</th>\n",
       "      <td>AAOJ1497</td>\n",
       "      <td>1</td>\n",
       "      <td>34</td>\n",
       "      <td>Wall Art</td>\n",
       "      <td>Wall Art</td>\n",
       "      <td>34</td>\n",
       "      <td>0.99</td>\n",
       "      <td>Relative Size &amp; Fit</td>\n",
       "      <td>0</td>\n",
       "    </tr>\n",
       "    <tr>\n",
       "      <th>3</th>\n",
       "      <td>AAOJ1497</td>\n",
       "      <td>1</td>\n",
       "      <td>34</td>\n",
       "      <td>Wall Art</td>\n",
       "      <td>Wall Art</td>\n",
       "      <td>34</td>\n",
       "      <td>0.99</td>\n",
       "      <td>Product Feature</td>\n",
       "      <td>0</td>\n",
       "    </tr>\n",
       "    <tr>\n",
       "      <th>4</th>\n",
       "      <td>ACFT1051</td>\n",
       "      <td>1</td>\n",
       "      <td>9</td>\n",
       "      <td>Bar Stools</td>\n",
       "      <td>Furniture - Kitchen and Dining</td>\n",
       "      <td>9</td>\n",
       "      <td>NaN</td>\n",
       "      <td>Dimensions</td>\n",
       "      <td>0</td>\n",
       "    </tr>\n",
       "  </tbody>\n",
       "</table>\n",
       "</div>"
      ],
      "text/plain": [
       "      prsku  modulecount  clid_x      clname                         mkcname  \\\n",
       "0  AAOJ1497            1      34    Wall Art                        Wall Art   \n",
       "1  AAOJ1497            1      34    Wall Art                        Wall Art   \n",
       "2  AAOJ1497            1      34    Wall Art                        Wall Art   \n",
       "3  AAOJ1497            1      34    Wall Art                        Wall Art   \n",
       "4  ACFT1051            1       9  Bar Stools  Furniture - Kitchen and Dining   \n",
       "\n",
       "   clid_y  percentilerank   biccontenttypename  hasbiccontenttype  \n",
       "0      34            0.99       Visual Details                  1  \n",
       "1      34            0.99           Dimensions                  0  \n",
       "2      34            0.99  Relative Size & Fit                  0  \n",
       "3      34            0.99      Product Feature                  0  \n",
       "4       9             NaN           Dimensions                  0  "
      ]
     },
     "execution_count": 9,
     "metadata": {},
     "output_type": "execute_result"
    }
   ],
   "source": [
    "# Merge data\n",
    "merged_ads = pd.merge(left = modules, right = content, how = 'left', left_on = 'prsku', right_on = 'prsku')\n",
    "merged_ads.head()"
   ]
  },
  {
   "cell_type": "code",
   "execution_count": 10,
   "metadata": {
    "scrolled": true
   },
   "outputs": [
    {
     "data": {
      "text/html": [
       "<div>\n",
       "<style scoped>\n",
       "    .dataframe tbody tr th:only-of-type {\n",
       "        vertical-align: middle;\n",
       "    }\n",
       "\n",
       "    .dataframe tbody tr th {\n",
       "        vertical-align: top;\n",
       "    }\n",
       "\n",
       "    .dataframe thead th {\n",
       "        text-align: right;\n",
       "    }\n",
       "</style>\n",
       "<table border=\"1\" class=\"dataframe\">\n",
       "  <thead>\n",
       "    <tr style=\"text-align: right;\">\n",
       "      <th></th>\n",
       "      <th>prsku</th>\n",
       "      <th>modulecount</th>\n",
       "      <th>clid_x</th>\n",
       "      <th>clname_x</th>\n",
       "      <th>mkcname_x</th>\n",
       "      <th>clid_y</th>\n",
       "      <th>percentilerank_x</th>\n",
       "      <th>biccontenttypename</th>\n",
       "      <th>hasbiccontenttype</th>\n",
       "      <th>soid</th>\n",
       "      <th>...</th>\n",
       "      <th>trafficcount</th>\n",
       "      <th>iscurrent</th>\n",
       "      <th>videocount</th>\n",
       "      <th>grs1month</th>\n",
       "      <th>grs2month</th>\n",
       "      <th>grs3month</th>\n",
       "      <th>grs12month</th>\n",
       "      <th>weightedavgscore</th>\n",
       "      <th>percentilerank_y</th>\n",
       "      <th>expectedgrs</th>\n",
       "    </tr>\n",
       "  </thead>\n",
       "  <tbody>\n",
       "    <tr>\n",
       "      <th>0</th>\n",
       "      <td>AAOJ1497</td>\n",
       "      <td>1</td>\n",
       "      <td>34</td>\n",
       "      <td>Wall Art</td>\n",
       "      <td>Wall Art</td>\n",
       "      <td>34</td>\n",
       "      <td>0.99</td>\n",
       "      <td>Visual Details</td>\n",
       "      <td>1</td>\n",
       "      <td>1</td>\n",
       "      <td>...</td>\n",
       "      <td>7</td>\n",
       "      <td>1</td>\n",
       "      <td>0</td>\n",
       "      <td>0.0000</td>\n",
       "      <td>0.000000</td>\n",
       "      <td>0.000000</td>\n",
       "      <td>175.770600</td>\n",
       "      <td>1.68</td>\n",
       "      <td>0.99</td>\n",
       "      <td>653.4692</td>\n",
       "    </tr>\n",
       "    <tr>\n",
       "      <th>1</th>\n",
       "      <td>AAOJ1497</td>\n",
       "      <td>1</td>\n",
       "      <td>34</td>\n",
       "      <td>Wall Art</td>\n",
       "      <td>Wall Art</td>\n",
       "      <td>34</td>\n",
       "      <td>0.99</td>\n",
       "      <td>Visual Details</td>\n",
       "      <td>1</td>\n",
       "      <td>6</td>\n",
       "      <td>...</td>\n",
       "      <td>1</td>\n",
       "      <td>1</td>\n",
       "      <td>0</td>\n",
       "      <td>0.0000</td>\n",
       "      <td>0.000000</td>\n",
       "      <td>0.000000</td>\n",
       "      <td>0.000000</td>\n",
       "      <td>1.68</td>\n",
       "      <td>0.99</td>\n",
       "      <td>653.4692</td>\n",
       "    </tr>\n",
       "    <tr>\n",
       "      <th>2</th>\n",
       "      <td>AAOJ1497</td>\n",
       "      <td>1</td>\n",
       "      <td>34</td>\n",
       "      <td>Wall Art</td>\n",
       "      <td>Wall Art</td>\n",
       "      <td>34</td>\n",
       "      <td>0.99</td>\n",
       "      <td>Visual Details</td>\n",
       "      <td>1</td>\n",
       "      <td>2</td>\n",
       "      <td>...</td>\n",
       "      <td>82</td>\n",
       "      <td>1</td>\n",
       "      <td>0</td>\n",
       "      <td>330.8612</td>\n",
       "      <td>1438.115306</td>\n",
       "      <td>1438.115306</td>\n",
       "      <td>1438.115306</td>\n",
       "      <td>1.68</td>\n",
       "      <td>0.99</td>\n",
       "      <td>653.4692</td>\n",
       "    </tr>\n",
       "    <tr>\n",
       "      <th>3</th>\n",
       "      <td>AAOJ1497</td>\n",
       "      <td>1</td>\n",
       "      <td>34</td>\n",
       "      <td>Wall Art</td>\n",
       "      <td>Wall Art</td>\n",
       "      <td>34</td>\n",
       "      <td>0.99</td>\n",
       "      <td>Visual Details</td>\n",
       "      <td>1</td>\n",
       "      <td>1</td>\n",
       "      <td>...</td>\n",
       "      <td>11</td>\n",
       "      <td>0</td>\n",
       "      <td>0</td>\n",
       "      <td>0.0000</td>\n",
       "      <td>0.000000</td>\n",
       "      <td>0.000000</td>\n",
       "      <td>175.770600</td>\n",
       "      <td>1.68</td>\n",
       "      <td>0.99</td>\n",
       "      <td>653.4692</td>\n",
       "    </tr>\n",
       "    <tr>\n",
       "      <th>4</th>\n",
       "      <td>AAOJ1497</td>\n",
       "      <td>1</td>\n",
       "      <td>34</td>\n",
       "      <td>Wall Art</td>\n",
       "      <td>Wall Art</td>\n",
       "      <td>34</td>\n",
       "      <td>0.99</td>\n",
       "      <td>Visual Details</td>\n",
       "      <td>1</td>\n",
       "      <td>7</td>\n",
       "      <td>...</td>\n",
       "      <td>125</td>\n",
       "      <td>0</td>\n",
       "      <td>0</td>\n",
       "      <td>322.4012</td>\n",
       "      <td>793.313000</td>\n",
       "      <td>793.313000</td>\n",
       "      <td>793.313000</td>\n",
       "      <td>1.68</td>\n",
       "      <td>0.99</td>\n",
       "      <td>653.4692</td>\n",
       "    </tr>\n",
       "  </tbody>\n",
       "</table>\n",
       "<p>5 rows × 28 columns</p>\n",
       "</div>"
      ],
      "text/plain": [
       "      prsku  modulecount  clid_x  clname_x mkcname_x  clid_y  \\\n",
       "0  AAOJ1497            1      34  Wall Art  Wall Art      34   \n",
       "1  AAOJ1497            1      34  Wall Art  Wall Art      34   \n",
       "2  AAOJ1497            1      34  Wall Art  Wall Art      34   \n",
       "3  AAOJ1497            1      34  Wall Art  Wall Art      34   \n",
       "4  AAOJ1497            1      34  Wall Art  Wall Art      34   \n",
       "\n",
       "   percentilerank_x biccontenttypename  hasbiccontenttype  soid  ...  \\\n",
       "0              0.99     Visual Details                  1     1  ...   \n",
       "1              0.99     Visual Details                  1     6  ...   \n",
       "2              0.99     Visual Details                  1     2  ...   \n",
       "3              0.99     Visual Details                  1     1  ...   \n",
       "4              0.99     Visual Details                  1     7  ...   \n",
       "\n",
       "  trafficcount  iscurrent videocount grs1month    grs2month    grs3month  \\\n",
       "0            7          1          0    0.0000     0.000000     0.000000   \n",
       "1            1          1          0    0.0000     0.000000     0.000000   \n",
       "2           82          1          0  330.8612  1438.115306  1438.115306   \n",
       "3           11          0          0    0.0000     0.000000     0.000000   \n",
       "4          125          0          0  322.4012   793.313000   793.313000   \n",
       "\n",
       "    grs12month  weightedavgscore  percentilerank_y  expectedgrs  \n",
       "0   175.770600              1.68              0.99     653.4692  \n",
       "1     0.000000              1.68              0.99     653.4692  \n",
       "2  1438.115306              1.68              0.99     653.4692  \n",
       "3   175.770600              1.68              0.99     653.4692  \n",
       "4   793.313000              1.68              0.99     653.4692  \n",
       "\n",
       "[5 rows x 28 columns]"
      ]
     },
     "execution_count": 10,
     "metadata": {},
     "output_type": "execute_result"
    }
   ],
   "source": [
    "merged_all = pd.merge(left = merged_ads, right = supplier, how='left', left_on='prsku', right_on='prsku')\n",
    "merged_all.head()"
   ]
  },
  {
   "cell_type": "code",
   "execution_count": 11,
   "metadata": {},
   "outputs": [
    {
     "data": {
      "text/plain": [
       "Index(['prsku', 'modulecount', 'clid_x', 'clname_x', 'mkcname_x', 'clid_y',\n",
       "       'percentilerank_x', 'biccontenttypename', 'hasbiccontenttype', 'soid',\n",
       "       'soname', 'clid', 'clname_y', 'mkcname_y', 'suid', 'iswaymore',\n",
       "       'addedtocart', 'placedorder', 'trafficcount', 'iscurrent', 'videocount',\n",
       "       'grs1month', 'grs2month', 'grs3month', 'grs12month', 'weightedavgscore',\n",
       "       'percentilerank_y', 'expectedgrs'],\n",
       "      dtype='object')"
      ]
     },
     "execution_count": 11,
     "metadata": {},
     "output_type": "execute_result"
    }
   ],
   "source": [
    "merged_all.columns"
   ]
  },
  {
   "cell_type": "code",
   "execution_count": 12,
   "metadata": {},
   "outputs": [],
   "source": [
    "merged_all.drop(['clid_y','clname_y','mkcname_y','percentilerank_y'], axis = 1, inplace = True)\n",
    "merged_all = merged_all.rename(columns={'clid_x': 'clid','clname_x':'clname','mkcname_x':'mkcname','percentilerank_x':'percentilerank'})"
   ]
  },
  {
   "cell_type": "code",
   "execution_count": 13,
   "metadata": {},
   "outputs": [
    {
     "data": {
      "text/plain": [
       "Index(['prsku', 'modulecount', 'clid', 'clname', 'mkcname', 'percentilerank',\n",
       "       'biccontenttypename', 'hasbiccontenttype', 'soid', 'soname', 'clid',\n",
       "       'suid', 'iswaymore', 'addedtocart', 'placedorder', 'trafficcount',\n",
       "       'iscurrent', 'videocount', 'grs1month', 'grs2month', 'grs3month',\n",
       "       'grs12month', 'weightedavgscore', 'expectedgrs'],\n",
       "      dtype='object')"
      ]
     },
     "execution_count": 13,
     "metadata": {},
     "output_type": "execute_result"
    }
   ],
   "source": [
    "# column names\n",
    "merged_all.columns"
   ]
  },
  {
   "cell_type": "code",
   "execution_count": 14,
   "metadata": {},
   "outputs": [
    {
     "data": {
      "text/plain": [
       "prsku                  object\n",
       "modulecount             int64\n",
       "clid                    int64\n",
       "clname                 object\n",
       "mkcname                object\n",
       "percentilerank        float64\n",
       "biccontenttypename     object\n",
       "hasbiccontenttype       int64\n",
       "soid                    int64\n",
       "soname                 object\n",
       "clid                    int64\n",
       "suid                    int64\n",
       "iswaymore               int64\n",
       "addedtocart             int64\n",
       "placedorder             int64\n",
       "trafficcount            int64\n",
       "iscurrent               int64\n",
       "videocount              int64\n",
       "grs1month             float64\n",
       "grs2month             float64\n",
       "grs3month             float64\n",
       "grs12month            float64\n",
       "weightedavgscore      float64\n",
       "expectedgrs           float64\n",
       "dtype: object"
      ]
     },
     "execution_count": 14,
     "metadata": {},
     "output_type": "execute_result"
    }
   ],
   "source": [
    "# data dypes\n",
    "merged_all.dtypes"
   ]
  },
  {
   "cell_type": "code",
   "execution_count": 15,
   "metadata": {},
   "outputs": [
    {
     "data": {
      "text/plain": [
       "<matplotlib.axes._subplots.AxesSubplot at 0x1a1eb582e8>"
      ]
     },
     "execution_count": 15,
     "metadata": {},
     "output_type": "execute_result"
    },
    {
     "data": {
      "image/png": "[encoded data removed]",
      "text/plain": [
       "<Figure size 432x288 with 1 Axes>"
      ]
     },
     "metadata": {
      "needs_background": "light"
     },
     "output_type": "display_data"
    }
   ],
   "source": [
    "merged_all.percentilerank.plot.hist()"
   ]
  },
  {
   "cell_type": "code",
   "execution_count": 16,
   "metadata": {},
   "outputs": [
    {
     "data": {
      "text/plain": [
       "<matplotlib.axes._subplots.AxesSubplot at 0x1a1b9c8cf8>"
      ]
     },
     "execution_count": 16,
     "metadata": {},
     "output_type": "execute_result"
    },
    {
     "data": {
      "image/png": "[encoded data removed]",
      "text/plain": [
       "<Figure size 432x288 with 1 Axes>"
      ]
     },
     "metadata": {
      "needs_background": "light"
     },
     "output_type": "display_data"
    }
   ],
   "source": [
    "merged_all.plot.scatter(x='percentilerank',y ='grs1month')"
   ]
  },
  {
   "cell_type": "code",
   "execution_count": 17,
   "metadata": {},
   "outputs": [
    {
     "data": {
      "text/plain": [
       "(4473936, 24)"
      ]
     },
     "execution_count": 17,
     "metadata": {},
     "output_type": "execute_result"
    }
   ],
   "source": [
    "merged_all.shape"
   ]
  },
  {
   "cell_type": "code",
   "execution_count": 131,
   "metadata": {},
   "outputs": [
    {
     "data": {
      "text/plain": [
       "(4474, 24)"
      ]
     },
     "execution_count": 131,
     "metadata": {},
     "output_type": "execute_result"
    }
   ],
   "source": [
    "# Sample a fraction of data for analysis\n",
    "df_sample = merged_all.sample(frac =0.001)\n",
    "df_sample.shape"
   ]
  },
  {
   "cell_type": "code",
   "execution_count": 51,
   "metadata": {},
   "outputs": [
    {
     "data": {
      "text/plain": [
       "1    4419\n",
       "0      55\n",
       "Name: iswaymore, dtype: int64"
      ]
     },
     "execution_count": 51,
     "metadata": {},
     "output_type": "execute_result"
    }
   ],
   "source": [
    "df_sample['iswaymore'].value_counts()"
   ]
  },
  {
   "cell_type": "code",
   "execution_count": 57,
   "metadata": {
    "scrolled": true
   },
   "outputs": [
    {
     "data": {
      "text/html": [
       "<div>\n",
       "<style scoped>\n",
       "    .dataframe tbody tr th:only-of-type {\n",
       "        vertical-align: middle;\n",
       "    }\n",
       "\n",
       "    .dataframe tbody tr th {\n",
       "        vertical-align: top;\n",
       "    }\n",
       "\n",
       "    .dataframe thead th {\n",
       "        text-align: right;\n",
       "    }\n",
       "</style>\n",
       "<table border=\"1\" class=\"dataframe\">\n",
       "  <thead>\n",
       "    <tr style=\"text-align: right;\">\n",
       "      <th></th>\n",
       "      <th>modulecount</th>\n",
       "      <th>clid</th>\n",
       "      <th>percentilerank</th>\n",
       "      <th>hasbiccontenttype</th>\n",
       "      <th>soid</th>\n",
       "      <th>clid</th>\n",
       "      <th>suid</th>\n",
       "      <th>iswaymore</th>\n",
       "      <th>addedtocart</th>\n",
       "      <th>placedorder</th>\n",
       "      <th>trafficcount</th>\n",
       "      <th>iscurrent</th>\n",
       "      <th>videocount</th>\n",
       "      <th>grs1month</th>\n",
       "      <th>grs2month</th>\n",
       "      <th>grs3month</th>\n",
       "      <th>grs12month</th>\n",
       "      <th>weightedavgscore</th>\n",
       "      <th>expectedgrs</th>\n",
       "    </tr>\n",
       "  </thead>\n",
       "  <tbody>\n",
       "    <tr>\n",
       "      <th>count</th>\n",
       "      <td>4474.000000</td>\n",
       "      <td>4474.000000</td>\n",
       "      <td>2680.000000</td>\n",
       "      <td>4474.000000</td>\n",
       "      <td>4474.000000</td>\n",
       "      <td>4474.000000</td>\n",
       "      <td>4474.000000</td>\n",
       "      <td>4474.000000</td>\n",
       "      <td>4474.000000</td>\n",
       "      <td>4474.000000</td>\n",
       "      <td>4474.000000</td>\n",
       "      <td>4474.000000</td>\n",
       "      <td>4474.000000</td>\n",
       "      <td>4474.000000</td>\n",
       "      <td>4474.000000</td>\n",
       "      <td>4474.000000</td>\n",
       "      <td>4.474000e+03</td>\n",
       "      <td>2498.000000</td>\n",
       "      <td>2498.000000</td>\n",
       "    </tr>\n",
       "    <tr>\n",
       "      <th>mean</th>\n",
       "      <td>6.546044</td>\n",
       "      <td>25.041797</td>\n",
       "      <td>0.678619</td>\n",
       "      <td>0.396737</td>\n",
       "      <td>3.500894</td>\n",
       "      <td>25.041797</td>\n",
       "      <td>488.386008</td>\n",
       "      <td>0.989271</td>\n",
       "      <td>11.757935</td>\n",
       "      <td>1.643943</td>\n",
       "      <td>184.829683</td>\n",
       "      <td>0.509835</td>\n",
       "      <td>0.162718</td>\n",
       "      <td>321.387026</td>\n",
       "      <td>716.591269</td>\n",
       "      <td>1075.002623</td>\n",
       "      <td>4.346859e+03</td>\n",
       "      <td>1.177670</td>\n",
       "      <td>4040.752530</td>\n",
       "    </tr>\n",
       "    <tr>\n",
       "      <th>std</th>\n",
       "      <td>11.288852</td>\n",
       "      <td>10.463388</td>\n",
       "      <td>0.272226</td>\n",
       "      <td>0.489275</td>\n",
       "      <td>2.558176</td>\n",
       "      <td>10.463388</td>\n",
       "      <td>1556.643793</td>\n",
       "      <td>0.103034</td>\n",
       "      <td>68.854852</td>\n",
       "      <td>12.437816</td>\n",
       "      <td>965.582045</td>\n",
       "      <td>0.499959</td>\n",
       "      <td>0.475075</td>\n",
       "      <td>2322.722381</td>\n",
       "      <td>5193.619306</td>\n",
       "      <td>7635.916119</td>\n",
       "      <td>3.979042e+04</td>\n",
       "      <td>0.378547</td>\n",
       "      <td>23589.562249</td>\n",
       "    </tr>\n",
       "    <tr>\n",
       "      <th>min</th>\n",
       "      <td>1.000000</td>\n",
       "      <td>1.000000</td>\n",
       "      <td>0.000000</td>\n",
       "      <td>0.000000</td>\n",
       "      <td>1.000000</td>\n",
       "      <td>1.000000</td>\n",
       "      <td>1.000000</td>\n",
       "      <td>0.000000</td>\n",
       "      <td>0.000000</td>\n",
       "      <td>0.000000</td>\n",
       "      <td>0.000000</td>\n",
       "      <td>0.000000</td>\n",
       "      <td>0.000000</td>\n",
       "      <td>0.000000</td>\n",
       "      <td>0.000000</td>\n",
       "      <td>0.000000</td>\n",
       "      <td>0.000000e+00</td>\n",
       "      <td>0.350000</td>\n",
       "      <td>0.000000</td>\n",
       "    </tr>\n",
       "    <tr>\n",
       "      <th>25%</th>\n",
       "      <td>2.000000</td>\n",
       "      <td>15.000000</td>\n",
       "      <td>0.520000</td>\n",
       "      <td>0.000000</td>\n",
       "      <td>1.000000</td>\n",
       "      <td>15.000000</td>\n",
       "      <td>1.000000</td>\n",
       "      <td>1.000000</td>\n",
       "      <td>0.000000</td>\n",
       "      <td>0.000000</td>\n",
       "      <td>0.000000</td>\n",
       "      <td>0.000000</td>\n",
       "      <td>0.000000</td>\n",
       "      <td>0.000000</td>\n",
       "      <td>0.000000</td>\n",
       "      <td>0.000000</td>\n",
       "      <td>0.000000e+00</td>\n",
       "      <td>0.900000</td>\n",
       "      <td>81.686000</td>\n",
       "    </tr>\n",
       "    <tr>\n",
       "      <th>50%</th>\n",
       "      <td>3.000000</td>\n",
       "      <td>34.000000</td>\n",
       "      <td>0.720000</td>\n",
       "      <td>0.000000</td>\n",
       "      <td>3.000000</td>\n",
       "      <td>34.000000</td>\n",
       "      <td>1.000000</td>\n",
       "      <td>1.000000</td>\n",
       "      <td>0.000000</td>\n",
       "      <td>0.000000</td>\n",
       "      <td>3.000000</td>\n",
       "      <td>1.000000</td>\n",
       "      <td>0.000000</td>\n",
       "      <td>0.000000</td>\n",
       "      <td>0.000000</td>\n",
       "      <td>0.000000</td>\n",
       "      <td>0.000000e+00</td>\n",
       "      <td>1.100000</td>\n",
       "      <td>374.195200</td>\n",
       "    </tr>\n",
       "    <tr>\n",
       "      <th>75%</th>\n",
       "      <td>5.000000</td>\n",
       "      <td>34.000000</td>\n",
       "      <td>0.910000</td>\n",
       "      <td>1.000000</td>\n",
       "      <td>6.000000</td>\n",
       "      <td>34.000000</td>\n",
       "      <td>111.000000</td>\n",
       "      <td>1.000000</td>\n",
       "      <td>2.000000</td>\n",
       "      <td>0.000000</td>\n",
       "      <td>34.000000</td>\n",
       "      <td>1.000000</td>\n",
       "      <td>0.000000</td>\n",
       "      <td>0.000000</td>\n",
       "      <td>0.000000</td>\n",
       "      <td>38.945200</td>\n",
       "      <td>3.795902e+02</td>\n",
       "      <td>1.370000</td>\n",
       "      <td>1375.409200</td>\n",
       "    </tr>\n",
       "    <tr>\n",
       "      <th>max</th>\n",
       "      <td>60.000000</td>\n",
       "      <td>48.000000</td>\n",
       "      <td>1.000000</td>\n",
       "      <td>1.000000</td>\n",
       "      <td>8.000000</td>\n",
       "      <td>48.000000</td>\n",
       "      <td>12674.000000</td>\n",
       "      <td>1.000000</td>\n",
       "      <td>2062.000000</td>\n",
       "      <td>446.000000</td>\n",
       "      <td>20951.000000</td>\n",
       "      <td>1.000000</td>\n",
       "      <td>8.000000</td>\n",
       "      <td>57585.804454</td>\n",
       "      <td>138152.539874</td>\n",
       "      <td>190199.121446</td>\n",
       "      <td>1.921397e+06</td>\n",
       "      <td>2.620000</td>\n",
       "      <td>882987.251600</td>\n",
       "    </tr>\n",
       "  </tbody>\n",
       "</table>\n",
       "</div>"
      ],
      "text/plain": [
       "       modulecount         clid  percentilerank  hasbiccontenttype  \\\n",
       "count  4474.000000  4474.000000     2680.000000        4474.000000   \n",
       "mean      6.546044    25.041797        0.678619           0.396737   \n",
       "std      11.288852    10.463388        0.272226           0.489275   \n",
       "min       1.000000     1.000000        0.000000           0.000000   \n",
       "25%       2.000000    15.000000        0.520000           0.000000   \n",
       "50%       3.000000    34.000000        0.720000           0.000000   \n",
       "75%       5.000000    34.000000        0.910000           1.000000   \n",
       "max      60.000000    48.000000        1.000000           1.000000   \n",
       "\n",
       "              soid         clid          suid    iswaymore  addedtocart  \\\n",
       "count  4474.000000  4474.000000   4474.000000  4474.000000  4474.000000   \n",
       "mean      3.500894    25.041797    488.386008     0.989271    11.757935   \n",
       "std       2.558176    10.463388   1556.643793     0.103034    68.854852   \n",
       "min       1.000000     1.000000      1.000000     0.000000     0.000000   \n",
       "25%       1.000000    15.000000      1.000000     1.000000     0.000000   \n",
       "50%       3.000000    34.000000      1.000000     1.000000     0.000000   \n",
       "75%       6.000000    34.000000    111.000000     1.000000     2.000000   \n",
       "max       8.000000    48.000000  12674.000000     1.000000  2062.000000   \n",
       "\n",
       "       placedorder  trafficcount    iscurrent   videocount     grs1month  \\\n",
       "count  4474.000000   4474.000000  4474.000000  4474.000000   4474.000000   \n",
       "mean      1.643943    184.829683     0.509835     0.162718    321.387026   \n",
       "std      12.437816    965.582045     0.499959     0.475075   2322.722381   \n",
       "min       0.000000      0.000000     0.000000     0.000000      0.000000   \n",
       "25%       0.000000      0.000000     0.000000     0.000000      0.000000   \n",
       "50%       0.000000      3.000000     1.000000     0.000000      0.000000   \n",
       "75%       0.000000     34.000000     1.000000     0.000000      0.000000   \n",
       "max     446.000000  20951.000000     1.000000     8.000000  57585.804454   \n",
       "\n",
       "           grs2month      grs3month    grs12month  weightedavgscore  \\\n",
       "count    4474.000000    4474.000000  4.474000e+03       2498.000000   \n",
       "mean      716.591269    1075.002623  4.346859e+03          1.177670   \n",
       "std      5193.619306    7635.916119  3.979042e+04          0.378547   \n",
       "min         0.000000       0.000000  0.000000e+00          0.350000   \n",
       "25%         0.000000       0.000000  0.000000e+00          0.900000   \n",
       "50%         0.000000       0.000000  0.000000e+00          1.100000   \n",
       "75%         0.000000      38.945200  3.795902e+02          1.370000   \n",
       "max    138152.539874  190199.121446  1.921397e+06          2.620000   \n",
       "\n",
       "         expectedgrs  \n",
       "count    2498.000000  \n",
       "mean     4040.752530  \n",
       "std     23589.562249  \n",
       "min         0.000000  \n",
       "25%        81.686000  \n",
       "50%       374.195200  \n",
       "75%      1375.409200  \n",
       "max    882987.251600  "
      ]
     },
     "execution_count": 57,
     "metadata": {},
     "output_type": "execute_result"
    }
   ],
   "source": [
    "df_sample.describe()"
   ]
  },
  {
   "cell_type": "code",
   "execution_count": 58,
   "metadata": {},
   "outputs": [
    {
     "data": {
      "image/png": "[encoded data removed]",
      "text/plain": [
       "<Figure size 432x288 with 1 Axes>"
      ]
     },
     "metadata": {
      "needs_background": "light"
     },
     "output_type": "display_data"
    }
   ],
   "source": [
    "p1 = sns.boxplot(x=\"iswaymore\", y=\"percentilerank\", data=df_sample)"
   ]
  },
  {
   "cell_type": "code",
   "execution_count": 59,
   "metadata": {},
   "outputs": [
    {
     "data": {
      "image/png": "[encoded data removed]",
      "text/plain": [
       "<Figure size 432x288 with 1 Axes>"
      ]
     },
     "metadata": {
      "needs_background": "light"
     },
     "output_type": "display_data"
    }
   ],
   "source": [
    "p1 = sns.boxplot(x=\"iswaymore\", y=\"percentilerank\", data=df_sample)\n"
   ]
  },
  {
   "cell_type": "code",
   "execution_count": 23,
   "metadata": {},
   "outputs": [
    {
     "data": {
      "text/plain": [
       "<seaborn.axisgrid.FacetGrid at 0x1a1c2ed0f0>"
      ]
     },
     "execution_count": 23,
     "metadata": {},
     "output_type": "execute_result"
    },
    {
     "data": {
      "image/png": "[encoded data removed]",
      "text/plain": [
       "<Figure size 574.25x360 with 1 Axes>"
      ]
     },
     "metadata": {
      "needs_background": "light"
     },
     "output_type": "display_data"
    }
   ],
   "source": [
    "sns.catplot(x= \"iswaymore\", y= \"percentilerank\", hue=\"clname\", kind=\"box\", data=df_sample)"
   ]
  },
  {
   "cell_type": "code",
   "execution_count": 147,
   "metadata": {},
   "outputs": [
    {
     "data": {
      "text/plain": [
       "(4474, 11)"
      ]
     },
     "execution_count": 147,
     "metadata": {},
     "output_type": "execute_result"
    }
   ],
   "source": [
    "# Select relevant features only\n",
    "df_sample = df_sample[['iswaymore', 'modulecount', 'percentilerank', 'biccontenttypename','hasbiccontenttype', 'addedtocart', 'placedorder', 'trafficcount','grs1month', 'weightedavgscore', 'expectedgrs']]\n",
    "df_sample.shape"
   ]
  },
  {
   "cell_type": "code",
   "execution_count": 146,
   "metadata": {},
   "outputs": [
    {
     "data": {
      "text/plain": [
       "iswaymore               int64\n",
       "modulecount             int64\n",
       "clname                 object\n",
       "percentilerank        float64\n",
       "biccontenttypename     object\n",
       "hasbiccontenttype       int64\n",
       "soname                 object\n",
       "addedtocart             int64\n",
       "placedorder             int64\n",
       "trafficcount            int64\n",
       "grs1month             float64\n",
       "weightedavgscore      float64\n",
       "expectedgrs           float64\n",
       "dtype: object"
      ]
     },
     "execution_count": 146,
     "metadata": {},
     "output_type": "execute_result"
    }
   ],
   "source": [
    "df_sample.dtypes\n",
    "# df_sample['clname'].unique()"
   ]
  },
  {
   "cell_type": "code",
   "execution_count": 133,
   "metadata": {},
   "outputs": [
    {
     "data": {
      "text/plain": [
       "iswaymore                0\n",
       "modulecount              0\n",
       "clname                   0\n",
       "percentilerank        1796\n",
       "biccontenttypename       0\n",
       "hasbiccontenttype        0\n",
       "soname                   0\n",
       "addedtocart              0\n",
       "placedorder              0\n",
       "trafficcount             0\n",
       "grs1month                0\n",
       "weightedavgscore      1971\n",
       "expectedgrs           1971\n",
       "dtype: int64"
      ]
     },
     "execution_count": 133,
     "metadata": {},
     "output_type": "execute_result"
    }
   ],
   "source": [
    "# Check NAs\n",
    "df_sample.isnull().sum()"
   ]
  },
  {
   "cell_type": "code",
   "execution_count": 134,
   "metadata": {},
   "outputs": [],
   "source": [
    "# Median imputation\n",
    "df_sample = df_sample.fillna(df_sample.median())"
   ]
  },
  {
   "cell_type": "code",
   "execution_count": 135,
   "metadata": {},
   "outputs": [
    {
     "data": {
      "text/plain": [
       "iswaymore             0\n",
       "modulecount           0\n",
       "clname                0\n",
       "percentilerank        0\n",
       "biccontenttypename    0\n",
       "hasbiccontenttype     0\n",
       "soname                0\n",
       "addedtocart           0\n",
       "placedorder           0\n",
       "trafficcount          0\n",
       "grs1month             0\n",
       "weightedavgscore      0\n",
       "expectedgrs           0\n",
       "dtype: int64"
      ]
     },
     "execution_count": 135,
     "metadata": {},
     "output_type": "execute_result"
    }
   ],
   "source": [
    "# Check NAs\n",
    "df_sample.isnull().sum()"
   ]
  },
  {
   "cell_type": "code",
   "execution_count": 155,
   "metadata": {},
   "outputs": [],
   "source": [
    "# choose features and target\n",
    "x = df_sample[['modulecount', 'percentilerank','hasbiccontenttype', 'addedtocart', 'placedorder', 'trafficcount','grs1month','weightedavgscore', 'expectedgrs']]\n",
    "y = df_sample['iswaymore']"
   ]
  },
  {
   "cell_type": "code",
   "execution_count": 156,
   "metadata": {},
   "outputs": [],
   "source": [
    "# split data\n",
    "x_train, x_test, y_train, y_test = train_test_split(x, y, train_size=0.8, test_size=0.2)"
   ]
  },
  {
   "cell_type": "code",
   "execution_count": 140,
   "metadata": {},
   "outputs": [],
   "source": [
    "# One hot encoding\n",
    "# 1. INSTANTIATE\n",
    "enc = OneHotEncoder(handle_unknown='ignore')\n",
    "\n",
    "# 2. FIT\n",
    "enc.fit(x_train)\n",
    "enc.fit(x_test)\n",
    "\n",
    "# 3. Transform\n",
    "onehot_x_train = enc.transform(x_train).toarray()\n",
    "onehot_x_test = enc.transform(x_test).toarray()"
   ]
  },
  {
   "cell_type": "code",
   "execution_count": 141,
   "metadata": {},
   "outputs": [
    {
     "name": "stdout",
     "output_type": "stream",
     "text": [
      "Logistic (Train/Test) accuracy\n",
      "0.9868678401788209\n",
      "0.9910614525139665\n"
     ]
    }
   ],
   "source": [
    "# Logistic regression\n",
    "logisticMod = LogisticRegression(penalty='l2',C=1.0,solver=\"lbfgs\",max_iter=500)\n",
    "logisticMod.fit(onehot_x_train,y_train)\n",
    "print('Logistic (Train/Test) accuracy')\n",
    "print(logisticMod.score(onehot_x_train,y_train))\n",
    "print(logisticMod.score(onehot_x_test,y_test))"
   ]
  },
  {
   "cell_type": "code",
   "execution_count": 157,
   "metadata": {},
   "outputs": [
    {
     "name": "stdout",
     "output_type": "stream",
     "text": [
      "Logistic (Train/Test) accuracy\n",
      "0.985470801899972\n",
      "0.9854748603351955\n"
     ]
    }
   ],
   "source": [
    "# Logistic regression\n",
    "logisticMod = LogisticRegression(penalty='l2',C=1.0,solver=\"lbfgs\",max_iter=500)\n",
    "logisticMod.fit(x_train,y_train)\n",
    "print('Logistic (Train/Test) accuracy')\n",
    "print(logisticMod.score(x_train,y_train))\n",
    "print(logisticMod.score(x_test,y_test))"
   ]
  },
  {
   "cell_type": "code",
   "execution_count": 159,
   "metadata": {},
   "outputs": [
    {
     "data": {
      "text/plain": [
       "array([[ 1.51938507e+00,  2.05148998e-01,  9.70148910e-02,\n",
       "         5.13321647e-02, -1.10429014e-01, -1.39987153e-03,\n",
       "        -1.21204283e-04,  3.67128042e-01, -6.10512550e-06]])"
      ]
     },
     "execution_count": 159,
     "metadata": {},
     "output_type": "execute_result"
    }
   ],
   "source": [
    "logisticMod.coef_"
   ]
  }
 ],
 "metadata": {
  "kernelspec": {
   "display_name": "Python 3",
   "language": "python",
   "name": "python3"
  },
  "language_info": {
   "codemirror_mode": {
    "name": "ipython",
    "version": 3
   },
   "file_extension": ".py",
   "mimetype": "text/x-python",
   "name": "python",
   "nbconvert_exporter": "python",
   "pygments_lexer": "ipython3",
   "version": "3.7.3"
  }
 },
 "nbformat": 4,
 "nbformat_minor": 2
}
